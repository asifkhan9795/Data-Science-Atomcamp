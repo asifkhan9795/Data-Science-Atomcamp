{
 "cells": [
  {
   "cell_type": "code",
   "execution_count": 1,
   "id": "b7c6ebe2",
   "metadata": {
    "_cell_guid": "b1076dfc-b9ad-4769-8c92-a6c4dae69d19",
    "_uuid": "8f2839f25d086af736a60e9eeb907d3b93b6e0e5",
    "execution": {
     "iopub.execute_input": "2024-07-29T05:02:54.293415Z",
     "iopub.status.busy": "2024-07-29T05:02:54.293007Z",
     "iopub.status.idle": "2024-07-29T05:02:55.364250Z",
     "shell.execute_reply": "2024-07-29T05:02:55.363131Z"
    },
    "papermill": {
     "duration": 1.078419,
     "end_time": "2024-07-29T05:02:55.367240",
     "exception": false,
     "start_time": "2024-07-29T05:02:54.288821",
     "status": "completed"
    },
    "tags": []
   },
   "outputs": [],
   "source": [
    "# This Python 3 environment comes with many helpful analytics libraries installed\n",
    "# It is defined by the kaggle/python Docker image: https://github.com/kaggle/docker-python\n",
    "# For example, here's several helpful packages to load\n",
    "\n",
    "import numpy as np # linear algebra\n",
    "import pandas as pd # data processing, CSV file I/O (e.g. pd.read_csv)\n",
    "\n",
    "# Input data files are available in the read-only \"../input/\" directory\n",
    "# For example, running this (by clicking run or pressing Shift+Enter) will list all files under the input directory\n",
    "\n",
    "import os\n",
    "for dirname, _, filenames in os.walk('/kaggle/input'):\n",
    "    for filename in filenames:\n",
    "        print(os.path.join(dirname, filename))\n",
    "\n",
    "# You can write up to 20GB to the current directory (/kaggle/working/) that gets preserved as output when you create a version using \"Save & Run All\" \n",
    "# You can also write temporary files to /kaggle/temp/, but they won't be saved outside of the current session"
   ]
  },
  {
   "cell_type": "markdown",
   "id": "32f5dc64",
   "metadata": {
    "papermill": {
     "duration": 0.001762,
     "end_time": "2024-07-29T05:02:55.371499",
     "exception": false,
     "start_time": "2024-07-29T05:02:55.369737",
     "status": "completed"
    },
    "tags": []
   },
   "source": [
    "# Data Cleaning & Introduction to Pivot Tables\n",
    "\n",
    "This manual provides an overview and introduction of each topic that will be covered in the Excel masterclass on data cleaning & pivot tables.\n",
    "\n",
    "# **Introduction**\n",
    "## **Overview of the Data Life Cycle**\n",
    "\n",
    "**Data Collection:** This initial stage involves gathering raw data from various sources. The quality and accuracy of data collected at this stage directly impact the effectiveness of subsequent stages.\n",
    "\n",
    "**Data Cleaning and Preparation:**\n",
    "Critical for ensuring the reliability of the dataset, this stage involves removing errors, inconsistencies, and irrelevant data. Proper data cleaning enhances the accuracy of analysis and decision-making processes.\n",
    "**Data Analysis:**\n",
    "At this stage, the cleaned data is examined to extract meaningful insights. This involves looking for patterns, correlations, and trends that can inform business decisions or scientific conclusions.\n",
    "**Data Visualization:** \n",
    "Here, data is transformed into graphical representations like charts and graphs. Visualization makes it easier to understand complex data sets and communicate findings clearly.\n",
    "**Data Interpretation:** \n",
    "This involves making sense of the data and its visualizations to draw actionable conclusions. It's about understanding the 'why' and 'how' behind the data. Data Storage and Maintenance: Finally, data needs to be securely stored and maintained. This ensures its availability for future analysis and ensures that the data remains accurate and up-to-date.\n",
    "\n",
    "# Part 1: Data Cleaning in Excel                  \n",
    "\n",
    "**Dataset Structuring**\n",
    "Proper dataset structuring involves organizing data in a format that is both logical and efficient for analysis. This includes defining columns clearly, ensuring each row represents a single record, and maintaining consistent formatting throughout the dataset.\n",
    "**Data Shapes:** Wide and Long Formats \n",
    "- **Wide format datasets** spread related data across multiple columns, with each column representing a different variable. This format is useful for data comparison purposes. \n",
    "- **Long format datasets**, on the other hand, stack data vertically, often consolidating multiple variables into a single column with corresponding values in another. This format is efficient for handling large datasets with repetitive measures. \n",
    "**Unique/Primary Key Concepts**\n",
    "A unique or primary key is a specific piece of data in a column that uniquely identifies each row in a table. It’s crucial for relational databases and for ensuring that each record in a dataset is distinct from all others, which is important for accurate data analysis and data integrity. \n",
    "**Handling Duplicates** \n",
    "Managing duplicates involves identifying and removing or consolidating repeated entries in a dataset. This process is vital to prevent skewed analysis results and to ensure that each piece of data is represented accurately. \n",
    "**Sort and Filter Functions** \n",
    "Sorting and filtering are fundamental functions in Excel used to organize data. Sorting rearranges the data based on specified criteria (like alphabetical order), while filtering allows for the display of only those rows that meet certain conditions, thereby facilitating focused analysis.\n",
    "\n",
    "**Text Functions:** LEFT, RIGHT, MID\n",
    "The LEFT, RIGHT, and MID functions in Excel are used to extract specific segments of text from a cell. LEFT returns the first characters from the start of a string, RIGHT returns the last characters, and MID extracts a substring from the middle based on a specified position and length.\n",
    "**The FIND Function**\n",
    "The FIND function in Excel is used to locate the position of a specified string within another string. This is particularly useful for parsing complex text data, allowing users to extract and analyze specific portions of data within a cell.\n",
    "**The IF Function** \n",
    "The IF function allows for logical comparisons within Excel. It returns one value if a specified condition is true and another value if it's false. This function is integral for performing conditional analysis and decision-making within datasets.\n",
    "**Text to Columns and CONCAT**\n",
    "The 'Text to Columns' feature in Excel is used to split text from a single cell into multiple columns based on a specified delimiter. The CONCAT function (or CONCATENATE in earlier versions) is used to combine text from different cells into one.\n",
    "**Understanding Data Types**\n",
    "Excel supports various data types like numeric, text, date, and Boolean. Understanding and correctly using these data types is crucial for accurate data entry and analysis. It ensures that functions and formulas work correctly and that data is interpreted in the intended way. \n",
    "\n",
    "# Part 2: Introduction to Pivot Tables\n",
    "\n",
    "**What are Pivot Tables?**\n",
    "\n",
    "Pivot Tables are one of Excel’s most powerful features, used for summarizing, analyzing, exploring, and presenting data. They allow users to easily transform columns of data into a more readable and understandable format, often without using formulas.\n",
    "**1. Creating Your First Pivot Table**\n",
    "Creating a pivot table involves selecting a range of data and choosing how to 'pivot' or rearrange this data. It typically involves specifying rows, columns, values, and filters to display the data in a summarized and organized manner.\n",
    "**2. Basic Pivot Table Operations**\n",
    "Basic operations in pivot tables include sorting, filtering, and arranging fields. This enables users to explore different aspects of the data, highlight key information, and conduct a variety of summary calculations like sums and averages.\n",
    "**3. Pivot Table Layout and Design**\n",
    "The layout and design of a pivot table can greatly affect its readability and impact. Excel offers various options to customize the appearance, such as adjusting field arrangements, applying styles, and formatting values for clearer presentation.\n",
    "\n"
   ]
  },
  {
   "cell_type": "code",
   "execution_count": null,
   "id": "a3e1e645",
   "metadata": {
    "papermill": {
     "duration": 0.001702,
     "end_time": "2024-07-29T05:02:55.375315",
     "exception": false,
     "start_time": "2024-07-29T05:02:55.373613",
     "status": "completed"
    },
    "tags": []
   },
   "outputs": [],
   "source": []
  }
 ],
 "metadata": {
  "kaggle": {
   "accelerator": "none",
   "dataSources": [],
   "dockerImageVersionId": 30732,
   "isGpuEnabled": false,
   "isInternetEnabled": true,
   "language": "python",
   "sourceType": "notebook"
  },
  "kernelspec": {
   "display_name": "Python 3",
   "language": "python",
   "name": "python3"
  },
  "language_info": {
   "codemirror_mode": {
    "name": "ipython",
    "version": 3
   },
   "file_extension": ".py",
   "mimetype": "text/x-python",
   "name": "python",
   "nbconvert_exporter": "python",
   "pygments_lexer": "ipython3",
   "version": "3.10.13"
  },
  "papermill": {
   "default_parameters": {},
   "duration": 4.657369,
   "end_time": "2024-07-29T05:02:55.898998",
   "environment_variables": {},
   "exception": null,
   "input_path": "__notebook__.ipynb",
   "output_path": "__notebook__.ipynb",
   "parameters": {},
   "start_time": "2024-07-29T05:02:51.241629",
   "version": "2.5.0"
  }
 },
 "nbformat": 4,
 "nbformat_minor": 5
}
